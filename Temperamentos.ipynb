{
 "cells": [
  {
   "cell_type": "code",
   "execution_count": 6,
   "metadata": {},
   "outputs": [],
   "source": [
    "import numpy as np\n",
    "import math"
   ]
  },
  {
   "cell_type": "code",
   "execution_count": 20,
   "metadata": {},
   "outputs": [
    {
     "name": "stdout",
     "output_type": "stream",
     "text": [
      "[,55.000000,82.244183,122.983739,183.903584,275.000000,411.220915,614.918694,919.517919,1375.000000,2056.104574,3074.593469,4597.589597,6875.000000]\n"
     ]
    }
   ],
   "source": [
    "arr = np.array([])\n",
    "current_note = 55\n",
    "toPrint = \"[\"\n",
    "for i in range(13):\n",
    "    arr = np.append(arr, [current_note])\n",
    "    toPrint += \",\" + '{:f}'.format(current_note)\n",
    "    current_note *= 1.4953487812212205\n",
    "toPrint += \"]\"\n",
    "print(toPrint)"
   ]
  },
  {
   "cell_type": "code",
   "execution_count": 3,
   "metadata": {},
   "outputs": [],
   "source": [
    "arr2 = [220, 328.97673188, 245.96747752, 367.80716774, 275, 411.22091484 , 307.459346905, 229.879479835, 343.75, 257.0130717725, 384.3241836325, 287.34934979437, 429.6875]"
   ]
  },
  {
   "cell_type": "code",
   "execution_count": 4,
   "metadata": {},
   "outputs": [
    {
     "data": {
      "text/plain": [
       "[220,\n",
       " 229.879479835,\n",
       " 245.96747752,\n",
       " 257.0130717725,\n",
       " 275,\n",
       " 287.34934979437,\n",
       " 307.459346905,\n",
       " 328.97673188,\n",
       " 343.75,\n",
       " 367.80716774,\n",
       " 384.3241836325,\n",
       " 411.22091484,\n",
       " 429.6875]"
      ]
     },
     "execution_count": 4,
     "metadata": {},
     "output_type": "execute_result"
    }
   ],
   "source": [
    "arr2.sort()\n",
    "arr2"
   ]
  },
  {
   "cell_type": "code",
   "execution_count": 18,
   "metadata": {},
   "outputs": [],
   "source": [
    "def calc_f2(f1,cents):\n",
    "    # cents = 1200 * log_2(f2/f1)\n",
    "    # cents = 1200 * (log_2(f2) - log_2(f1))\n",
    "    # cents = (1200 * log_2(f2)) - (1200 * log_2(f1))\n",
    "    # ((cents + (1200 * log_2(f1))) / 1200) = log_2(f2)\n",
    "    f2 = 2 ** ((cents + (1200.0 * math.log2(f1))) / 1200.0)\n",
    "    return f2"
   ]
  },
  {
   "cell_type": "code",
   "execution_count": 23,
   "metadata": {},
   "outputs": [
    {
     "name": "stdout",
     "output_type": "stream",
     "text": [
      "[,220.000000,230.671035,246.371753,260.720410,275.904730,293.325709,308.977873,328.487132,346.015546,367.863412,392.902185]\n"
     ]
    }
   ],
   "source": [
    "arr3 = np.array([])\n",
    "current_note = 220\n",
    "f1 = 220\n",
    "cents = [82, 196, 294, 392, 498, 588, 694, 784, 890, 1004, 1086]\n",
    "toPrint = \"[\"\n",
    "for i in range(len(cents)):\n",
    "    arr3 = np.append(arr3, [current_note])\n",
    "    toPrint += \",\" + '{:f}'.format(current_note)\n",
    "    current_note = calc_f2(f1,cents[i])\n",
    "toPrint += \"]\"\n",
    "print(toPrint)"
   ]
  }
 ],
 "metadata": {
  "kernelspec": {
   "display_name": "Python 3",
   "language": "python",
   "name": "python3"
  },
  "language_info": {
   "codemirror_mode": {
    "name": "ipython",
    "version": 3
   },
   "file_extension": ".py",
   "mimetype": "text/x-python",
   "name": "python",
   "nbconvert_exporter": "python",
   "pygments_lexer": "ipython3",
   "version": "3.7.3"
  }
 },
 "nbformat": 4,
 "nbformat_minor": 2
}
